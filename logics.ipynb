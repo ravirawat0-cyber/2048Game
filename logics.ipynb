{
 "cells": [
  {
   "cell_type": "markdown",
   "metadata": {},
   "source": [
    "\n",
    "## Logical part of the 2048 game"
   ]
  },
  {
   "cell_type": "code",
   "execution_count": 33,
   "metadata": {},
   "outputs": [],
   "source": [
    "import random\n",
    "\n",
    "#! making 4X4 matirx with 0 element\n",
    "def start_game():\n",
    "    mat = []\n",
    "    for i in range(4):\n",
    "        mat.append([0]*4)\n",
    "    return mat\n",
    "\n",
    "#! adding 2 into the matrix into the random postion with random row and column generator\n",
    "def add_new_2(mat):\n",
    "\n",
    "    # random number genrating\n",
    "    r = random.randint(0,3)\n",
    "    c = random.randint(0,3)\n",
    "\n",
    "    # generate till row/col with ele 0 found\n",
    "    while(mat[r][c] != 0):\n",
    "        r = random.randint(0,3)\n",
    "        c = random.randint(0,3)\n",
    "    # adding 2 \n",
    "    mat[r][c] = 2\n",
    "\n",
    "#! shift all non element to left \n",
    "def compress(mat):\n",
    "    changed = False\n",
    "    new_mat = []\n",
    "    for i in range(4):\n",
    "        new_mat.append([0]*4)\n",
    "\n",
    "    # shifting all non element to left\n",
    "    for i in range(4):\n",
    "        pos = 0\n",
    "        for j in range(4):\n",
    "            if mat[i][j] != 0:\n",
    "                new_mat[i][pos] = mat[i][j]\n",
    "                if j != pos:\n",
    "                    changed = True\n",
    "                pos += 1\n",
    " \n",
    "    return new_mat, changed\n",
    "\n",
    "\n",
    "#! now multiplying the consecutive element\n",
    "def merge(mat):\n",
    "    changed = False\n",
    "    for i in range(4):\n",
    "        for j in range(3):\n",
    "            if mat[i][j] == mat[i][j+1] and mat[i][j] != 0:\n",
    "                mat[i][j] = mat[i][j] * 2\n",
    "                mat[i][j + 1] = 0\n",
    "                changed = True\n",
    "\n",
    "    return mat, changed\n",
    "\n",
    "    \n",
    "#! reverse a matirx\n",
    "def reverse(mat):\n",
    "    new_mat = []\n",
    "    for i in range(4):\n",
    "        new_mat.append([])\n",
    "        for j in range(4):\n",
    "            new_mat[i].append(mat[i][4-j-1])\n",
    "\n",
    "    return new_mat \n",
    "\n",
    "#! transpose of matrix\n",
    "def transpose(mat):\n",
    "\n",
    "    new_mat = []\n",
    "    for i in range(4):\n",
    "        new_mat.append([])\n",
    "        for j in range(4):\n",
    "            new_mat[i].append(mat[j][i])\n",
    "    \n",
    "    return new_mat\n",
    "\n",
    "\n",
    "#! Left move \n",
    "def move_left(grid):\n",
    "    new_grid, changed1 = compress(grid)\n",
    "    new_grid, changed2 = merge(new_grid)\n",
    "    #checking if any change or not\n",
    "    changed = changed2 or changed1\n",
    "    new_grid, temp = compress(new_grid)\n",
    "    return new_grid, changed\n",
    "\n",
    "\n",
    "#! right move \n",
    "def move_right(grid):\n",
    "    reversed_grid = reverse(grid)\n",
    "    new_grid, changed1 = compress(reversed_grid)\n",
    "    new_grid, changed2 = merge(new_grid)\n",
    "    # Checking if any change or not\n",
    "    changed = changed2 or changed1\n",
    "    new_grid = compress(new_grid)\n",
    "    new_grid = reverse(new_grid)\n",
    "\n",
    "    return new_grid, changed\n",
    "\n",
    "\n",
    "\n",
    "#! up move \n",
    "def move_up(grid):\n",
    "    transpose_grid = transpose(grid)\n",
    "    new_grid, changed1 = compress(transpose_grid)\n",
    "    new_grid, changed2 = merge(new_grid)\n",
    "    # Checking if any change or not\n",
    "    changed = changed1 or changed2\n",
    "    new_grid = compress(new_grid)\n",
    "    new_grid = transpose(new_grid)\n",
    "    return new_grid, changed\n",
    "\n",
    "#! down move \n",
    "def move_down(grid):\n",
    "    transpose_grid = transpose(grid)\n",
    "    reverse_grid = reverse(grid)\n",
    "    new_grid,changed1 = compress(reverse_grid)\n",
    "    new_grid,changed2 = merge(new_grid)\n",
    "    # checking if any change or not\n",
    "    changed = changed1 or changed2\n",
    "    new_grid = compress(new_grid)\n",
    "    reverse_grid = compress(new_grid)\n",
    "    transpose_grid = transpose(reverse_grid)\n",
    "    return transpose_grid, changed\n",
    "    \n",
    "\n",
    "#! cheacking for the game state \n",
    "def get_current_state(mat):\n",
    "    # check for 2048 value \n",
    "    for i in range(4):\n",
    "        for j in range(4):\n",
    "            if (mat[i][j] == 2048):\n",
    "                return \"WON\"\n",
    "    \n",
    "    # check if any 0 present\n",
    "    for i in range(4):\n",
    "        for j in range(4):\n",
    "            if (mat[i][j] == 0):\n",
    "                return 'GAME NOT OVER'\n",
    "\n",
    "    \n",
    "    # Every row and column except last one\n",
    "    for i in range(3):\n",
    "        for j in range(3):\n",
    "            if (mat[i][j] == mat[i+1][j] or mat[i][j] == mat[i][j+1]):\n",
    "                return 'GAME NOT OVER'\n",
    "\n",
    "    \n",
    "    # Checking for last row \n",
    "    for j in range(3):\n",
    "        if mat[3][j] == mat[3][j+1]:\n",
    "            return 'GAME NOT OVER'\n",
    "\n",
    "    # checking for last column\n",
    "    for i in range(3):\n",
    "        if mat[i][3] == mat[i+1][3]:\n",
    "            return \"GAME NOT OVER\"\n",
    "\n",
    "    \n",
    "    # if all the condition is fail then\n",
    "    return 'LOST'"
   ]
  },
  {
   "cell_type": "code",
   "execution_count": 34,
   "metadata": {},
   "outputs": [],
   "source": [
    "mat = start_game()"
   ]
  },
  {
   "cell_type": "code",
   "execution_count": 35,
   "metadata": {},
   "outputs": [
    {
     "name": "stdout",
     "output_type": "stream",
     "text": [
      "[[0, 0, 2, 0], [0, 0, 0, 0], [0, 0, 0, 0], [0, 0, 0, 0]]\n"
     ]
    }
   ],
   "source": [
    "add_new_2(mat)\n",
    "print(mat)"
   ]
  },
  {
   "cell_type": "code",
   "execution_count": 36,
   "metadata": {},
   "outputs": [
    {
     "name": "stdout",
     "output_type": "stream",
     "text": [
      "[[0, 0, 2, 0], [0, 0, 0, 0], [0, 0, 2, 0], [0, 0, 0, 0]]\n"
     ]
    }
   ],
   "source": [
    "add_new_2(mat)\n",
    "print(mat)"
   ]
  },
  {
   "cell_type": "code",
   "execution_count": 37,
   "metadata": {},
   "outputs": [
    {
     "name": "stdout",
     "output_type": "stream",
     "text": [
      "[[2, 0, 0, 0], [0, 0, 0, 0], [2, 0, 0, 0], [0, 0, 0, 0]]\n"
     ]
    }
   ],
   "source": [
    "mat = move_left(mat)\n",
    "print(mat)"
   ]
  },
  {
   "cell_type": "code",
   "execution_count": 38,
   "metadata": {},
   "outputs": [
    {
     "name": "stdout",
     "output_type": "stream",
     "text": [
      "[[2, 0, 0, 0], [0, 0, 2, 0], [2, 0, 0, 0], [0, 0, 0, 0]]\n"
     ]
    }
   ],
   "source": [
    "add_new_2(mat)\n",
    "print(mat)"
   ]
  },
  {
   "cell_type": "code",
   "execution_count": 39,
   "metadata": {},
   "outputs": [
    {
     "name": "stdout",
     "output_type": "stream",
     "text": [
      "[[0, 0, 0, 2], [0, 0, 0, 2], [0, 0, 0, 2], [0, 0, 0, 0]]\n"
     ]
    }
   ],
   "source": [
    "mat = move_right(mat)\n",
    "print(mat)"
   ]
  },
  {
   "cell_type": "code",
   "execution_count": 40,
   "metadata": {},
   "outputs": [
    {
     "data": {
      "text/plain": [
       "[[0, 0, 0, 2], [0, 0, 0, 2], [0, 0, 0, 2], [2, 0, 0, 0]]"
      ]
     },
     "execution_count": 40,
     "metadata": {},
     "output_type": "execute_result"
    }
   ],
   "source": [
    "add_new_2(mat)\n",
    "mat"
   ]
  },
  {
   "cell_type": "code",
   "execution_count": 41,
   "metadata": {},
   "outputs": [
    {
     "name": "stdout",
     "output_type": "stream",
     "text": [
      "[[2, 0, 0, 4], [0, 0, 0, 2], [0, 0, 0, 0], [0, 0, 0, 0]]\n"
     ]
    }
   ],
   "source": [
    "mat = move_up(mat)\n",
    "print(mat)"
   ]
  },
  {
   "cell_type": "code",
   "execution_count": 42,
   "metadata": {},
   "outputs": [],
   "source": [
    "mat= start_game()\n",
    "add_new_2(mat)"
   ]
  },
  {
   "cell_type": "code",
   "execution_count": 43,
   "metadata": {},
   "outputs": [
    {
     "data": {
      "text/plain": [
       "[[0, 0, 0, 0], [0, 0, 0, 0], [0, 0, 0, 0], [0, 0, 2, 0]]"
      ]
     },
     "execution_count": 43,
     "metadata": {},
     "output_type": "execute_result"
    }
   ],
   "source": [
    "mat"
   ]
  },
  {
   "cell_type": "code",
   "execution_count": 44,
   "metadata": {},
   "outputs": [
    {
     "data": {
      "text/plain": [
       "[[0, 0, 2, 0], [0, 0, 0, 0], [0, 0, 0, 0], [0, 0, 0, 0]]"
      ]
     },
     "execution_count": 44,
     "metadata": {},
     "output_type": "execute_result"
    }
   ],
   "source": [
    "mat = move_up(mat)\n",
    "mat"
   ]
  },
  {
   "cell_type": "code",
   "execution_count": null,
   "metadata": {},
   "outputs": [],
   "source": [
    " "
   ]
  },
  {
   "cell_type": "code",
   "execution_count": null,
   "metadata": {},
   "outputs": [],
   "source": []
  }
 ],
 "metadata": {
  "kernelspec": {
   "display_name": "Python 3.9.8 64-bit",
   "language": "python",
   "name": "python3"
  },
  "language_info": {
   "codemirror_mode": {
    "name": "ipython",
    "version": 3
   },
   "file_extension": ".py",
   "mimetype": "text/x-python",
   "name": "python",
   "nbconvert_exporter": "python",
   "pygments_lexer": "ipython3",
   "version": "3.9.8"
  },
  "orig_nbformat": 4,
  "vscode": {
   "interpreter": {
    "hash": "99afab51667f7b22327a56081b42eac170d1539afe9943f23d2e17cc98bdca41"
   }
  }
 },
 "nbformat": 4,
 "nbformat_minor": 2
}
